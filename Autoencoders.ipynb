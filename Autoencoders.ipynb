{
  "nbformat": 4,
  "nbformat_minor": 0,
  "metadata": {
    "colab": {
      "provenance": [],
      "include_colab_link": true
    },
    "kernelspec": {
      "name": "python3",
      "display_name": "Python 3"
    }
  },
  "cells": [
    {
      "cell_type": "markdown",
      "metadata": {
        "id": "view-in-github",
        "colab_type": "text"
      },
      "source": [
        "<a href=\"https://colab.research.google.com/github/anjalimalviya28/Machine-learning-lab/blob/main/Autoencoders.ipynb\" target=\"_parent\"><img src=\"https://colab.research.google.com/assets/colab-badge.svg\" alt=\"Open In Colab\"/></a>"
      ]
    },
    {
      "cell_type": "code",
      "metadata": {
        "id": "WQl8TSiHSOCU"
      },
      "source": [
        "from keras.layers import Input, Dense\n",
        "from keras.models import Model\n",
        "\n",
        "# this is the size of our encoded representations\n",
        "encoding_dim = 128  # 32 floats -> compression of factor 24.5, assuming the input is 784 floats\n",
        "\n",
        "# this is our input placeholder\n",
        "input_img = Input(shape=(784,))\n",
        "# \"encoded\" is the encoded representation of the input\n",
        "encoded = Dense(encoding_dim, activation='relu')(input_img)\n",
        "# \"decoded\" is the lossy reconstruction of the input\n",
        "decoded = Dense(784, activation='sigmoid')(encoded)\n",
        "\n",
        "# this model maps an input to its reconstruction\n",
        "autoencoder = Model(input_img, decoded)"
      ],
      "execution_count": 17,
      "outputs": []
    },
    {
      "cell_type": "code",
      "metadata": {
        "id": "Gq173u9YSTvU"
      },
      "source": [
        "# this model maps an input to its encoded representation\n",
        "encoder = Model(input_img, encoded)"
      ],
      "execution_count": 18,
      "outputs": []
    },
    {
      "cell_type": "code",
      "metadata": {
        "id": "q3K4BB0VSbfD"
      },
      "source": [
        "# create a placeholder for an encoded (32-dimensional) input\n",
        "encoded_input = Input(shape=(encoding_dim,))\n",
        "# retrieve the last layer of the autoencoder model\n",
        "decoder_layer = autoencoder.layers[-1]\n",
        "# create the decoder model\n",
        "decoder = Model(encoded_input, decoder_layer(encoded_input))"
      ],
      "execution_count": 19,
      "outputs": []
    },
    {
      "cell_type": "code",
      "metadata": {
        "id": "txJYhPm1SfLq"
      },
      "source": [
        "autoencoder.compile(optimizer='RMSprop', loss='binary_crossentropy')"
      ],
      "execution_count": 20,
      "outputs": []
    },
    {
      "cell_type": "code",
      "metadata": {
        "id": "ox4PzfObSiQd"
      },
      "source": [
        "from keras.datasets import mnist\n",
        "import numpy as np\n",
        "(x_train, _), (x_test, _) = mnist.load_data()"
      ],
      "execution_count": 21,
      "outputs": []
    },
    {
      "cell_type": "code",
      "metadata": {
        "id": "5riYiwmoSlDz",
        "colab": {
          "base_uri": "https://localhost:8080/"
        },
        "outputId": "18282094-d06b-4ae4-c123-6ef1372b07d9"
      },
      "source": [
        "x_train = x_train.astype('float32') / 255.\n",
        "x_test = x_test.astype('float32') / 255.\n",
        "x_train = x_train.reshape((len(x_train), np.prod(x_train.shape[1:])))\n",
        "x_test = x_test.reshape((len(x_test), np.prod(x_test.shape[1:])))\n",
        "print (x_train.shape)\n",
        "print (x_test.shape)"
      ],
      "execution_count": 22,
      "outputs": [
        {
          "output_type": "stream",
          "name": "stdout",
          "text": [
            "(60000, 784)\n",
            "(10000, 784)\n"
          ]
        }
      ]
    },
    {
      "cell_type": "code",
      "metadata": {
        "id": "zzkP2dNISsfq",
        "colab": {
          "base_uri": "https://localhost:8080/"
        },
        "outputId": "d8b65253-4d74-425f-95bf-31d32deab656"
      },
      "source": [
        "autoencoder.fit(x_train, x_train,\n",
        "                epochs=15,\n",
        "                batch_size=128,\n",
        "                shuffle=True,\n",
        "                validation_data=(x_test, x_test))"
      ],
      "execution_count": 23,
      "outputs": [
        {
          "output_type": "stream",
          "name": "stdout",
          "text": [
            "Epoch 1/15\n",
            "469/469 [==============================] - 7s 13ms/step - loss: 0.2308 - val_loss: 0.1693\n",
            "Epoch 2/15\n",
            "469/469 [==============================] - 5s 10ms/step - loss: 0.1517 - val_loss: 0.1357\n",
            "Epoch 3/15\n",
            "469/469 [==============================] - 5s 10ms/step - loss: 0.1275 - val_loss: 0.1177\n",
            "Epoch 4/15\n",
            "469/469 [==============================] - 6s 13ms/step - loss: 0.1127 - val_loss: 0.1054\n",
            "Epoch 5/15\n",
            "469/469 [==============================] - 5s 11ms/step - loss: 0.1025 - val_loss: 0.0973\n",
            "Epoch 6/15\n",
            "469/469 [==============================] - 6s 13ms/step - loss: 0.0958 - val_loss: 0.0919\n",
            "Epoch 7/15\n",
            "469/469 [==============================] - 5s 11ms/step - loss: 0.0912 - val_loss: 0.0882\n",
            "Epoch 8/15\n",
            "469/469 [==============================] - 5s 11ms/step - loss: 0.0881 - val_loss: 0.0856\n",
            "Epoch 9/15\n",
            "469/469 [==============================] - 6s 13ms/step - loss: 0.0857 - val_loss: 0.0836\n",
            "Epoch 10/15\n",
            "469/469 [==============================] - 5s 11ms/step - loss: 0.0838 - val_loss: 0.0820\n",
            "Epoch 11/15\n",
            "469/469 [==============================] - 7s 15ms/step - loss: 0.0824 - val_loss: 0.0807\n",
            "Epoch 12/15\n",
            "469/469 [==============================] - 5s 10ms/step - loss: 0.0811 - val_loss: 0.0796\n",
            "Epoch 13/15\n",
            "469/469 [==============================] - 7s 14ms/step - loss: 0.0800 - val_loss: 0.0786\n",
            "Epoch 14/15\n",
            "469/469 [==============================] - 5s 10ms/step - loss: 0.0791 - val_loss: 0.0778\n",
            "Epoch 15/15\n",
            "469/469 [==============================] - 5s 11ms/step - loss: 0.0783 - val_loss: 0.0771\n"
          ]
        },
        {
          "output_type": "execute_result",
          "data": {
            "text/plain": [
              "<keras.src.callbacks.History at 0x7f8213206e90>"
            ]
          },
          "metadata": {},
          "execution_count": 23
        }
      ]
    },
    {
      "cell_type": "code",
      "metadata": {
        "id": "OUr7fRVwSwHY",
        "colab": {
          "base_uri": "https://localhost:8080/"
        },
        "outputId": "72bf41e0-a361-4456-9f32-823cf3b0140b"
      },
      "source": [
        "# encode and decode some digits\n",
        "# note that we take them from the *test* set\n",
        "encoded_imgs = encoder.predict(x_test)\n",
        "decoded_imgs = decoder.predict(encoded_imgs)"
      ],
      "execution_count": 24,
      "outputs": [
        {
          "output_type": "stream",
          "name": "stdout",
          "text": [
            "313/313 [==============================] - 1s 2ms/step\n",
            "313/313 [==============================] - 1s 2ms/step\n"
          ]
        }
      ]
    },
    {
      "cell_type": "code",
      "metadata": {
        "id": "HqkoJw8xSzH1",
        "colab": {
          "base_uri": "https://localhost:8080/",
          "height": 304
        },
        "outputId": "3bd7316a-50c6-4eb5-986b-2a11619bbc6e"
      },
      "source": [
        "# use Matplotlib (don't ask)\n",
        "import matplotlib.pyplot as plt\n",
        "\n",
        "n = 10  # how many digits we will display\n",
        "plt.figure(figsize=(20, 4))\n",
        "for i in range(n):\n",
        "    # display original\n",
        "    ax = plt.subplot(2, n, i + 1)\n",
        "    plt.imshow(x_test[i].reshape(28, 28))\n",
        "    plt.gray()\n",
        "    ax.get_xaxis().set_visible(False)\n",
        "    ax.get_yaxis().set_visible(False)\n",
        "\n",
        "    # display reconstruction\n",
        "    ax = plt.subplot(2, n, i + 1 + n)\n",
        "    plt.imshow(decoded_imgs[i].reshape(28, 28))\n",
        "    plt.gray()\n",
        "    ax.get_xaxis().set_visible(False)\n",
        "    ax.get_yaxis().set_visible(False)\n",
        "plt.show()"
      ],
      "execution_count": 25,
      "outputs": [
        {
          "output_type": "display_data",
          "data": {
            "text/plain": [
              "<Figure size 2000x400 with 20 Axes>"
            ],
            "image/png": "[encoded data removed]"
          },
          "metadata": {}
        }
      ]
    },
    {
      "cell_type": "code",
      "source": [
        "from keras.layers import Input, Dense\n",
        "from keras.models import Model\n",
        "\n",
        "# Define the size of the encoded representation\n",
        "encoding_dim = 256 # 32 floats -> compression of factor 24.5, assuming the input is 784 floats\n",
        "\n",
        "# Input placeholder\n",
        "input_img = Input(shape=(784,))\n",
        "\n",
        "# Encoding layers\n",
        "encoded = Dense(128, activation='relu')(input_img)\n",
        "encoded = Dense(64, activation='relu')(encoded)\n",
        "encoded = Dense(encoding_dim, activation='relu')(encoded)\n",
        "\n",
        "# Decoding layers\n",
        "decoded = Dense(64, activation='relu')(encoded)\n",
        "decoded = Dense(128, activation='relu')(decoded)\n",
        "decoded = Dense(784, activation='sigmoid')(decoded)\n",
        "\n",
        "# Autoencoder model\n",
        "autoencoder = Model(input_img, decoded)\n",
        "\n",
        "# Encoder model\n",
        "encoder = Model(input_img, encoded)\n",
        "\n",
        "# Decoder model\n",
        "encoded_input = Input(shape=(encoding_dim,))\n",
        "decoder_layer1 = autoencoder.layers[-3]\n",
        "decoder_layer2 = autoencoder.layers[-2]\n",
        "decoder_layer3 = autoencoder.layers[-1]\n",
        "decoder = Model(encoded_input, decoder_layer3(decoder_layer2(decoder_layer1(encoded_input))))\n"
      ],
      "metadata": {
        "id": "ODd0yFC1bl7l"
      },
      "execution_count": 27,
      "outputs": []
    },
    {
      "cell_type": "code",
      "source": [
        "# Compile the model\n",
        "autoencoder.compile(optimizer='adam', loss='binary_crossentropy')\n",
        "\n",
        "# Train the model\n",
        "autoencoder.fit(x_train, x_train,\n",
        "                epochs=12,\n",
        "                batch_size=1024,\n",
        "                shuffle=True,\n",
        "                validation_data=(x_test, x_test))\n",
        "\n"
      ],
      "metadata": {
        "colab": {
          "base_uri": "https://localhost:8080/"
        },
        "id": "pedaPEaRcAic",
        "outputId": "f9079166-4ca8-4a6e-9be6-50cbda3339a1"
      },
      "execution_count": 28,
      "outputs": [
        {
          "output_type": "stream",
          "name": "stdout",
          "text": [
            "Epoch 1/12\n",
            "59/59 [==============================] - 6s 75ms/step - loss: 0.3673 - val_loss: 0.2568\n",
            "Epoch 2/12\n",
            "59/59 [==============================] - 4s 63ms/step - loss: 0.2394 - val_loss: 0.2112\n",
            "Epoch 3/12\n",
            "59/59 [==============================] - 3s 59ms/step - loss: 0.1887 - val_loss: 0.1702\n",
            "Epoch 4/12\n",
            "59/59 [==============================] - 4s 60ms/step - loss: 0.1631 - val_loss: 0.1535\n",
            "Epoch 5/12\n",
            "59/59 [==============================] - 5s 83ms/step - loss: 0.1483 - val_loss: 0.1417\n",
            "Epoch 6/12\n",
            "59/59 [==============================] - 3s 58ms/step - loss: 0.1387 - val_loss: 0.1331\n",
            "Epoch 7/12\n",
            "59/59 [==============================] - 3s 59ms/step - loss: 0.1316 - val_loss: 0.1274\n",
            "Epoch 8/12\n",
            "59/59 [==============================] - 5s 79ms/step - loss: 0.1267 - val_loss: 0.1231\n",
            "Epoch 9/12\n",
            "59/59 [==============================] - 4s 63ms/step - loss: 0.1229 - val_loss: 0.1195\n",
            "Epoch 10/12\n",
            "59/59 [==============================] - 3s 57ms/step - loss: 0.1198 - val_loss: 0.1169\n",
            "Epoch 11/12\n",
            "59/59 [==============================] - 3s 57ms/step - loss: 0.1170 - val_loss: 0.1143\n",
            "Epoch 12/12\n",
            "59/59 [==============================] - 5s 77ms/step - loss: 0.1146 - val_loss: 0.1123\n"
          ]
        },
        {
          "output_type": "execute_result",
          "data": {
            "text/plain": [
              "<keras.src.callbacks.History at 0x7f8211ddc2e0>"
            ]
          },
          "metadata": {},
          "execution_count": 28
        }
      ]
    },
    {
      "cell_type": "code",
      "source": [
        "# encode and decode some digits\n",
        "# note that we take them from the *test* set\n",
        "encoded_imgs = encoder.predict(x_test)\n",
        "decoded_imgs = decoder.predict(encoded_imgs)"
      ],
      "metadata": {
        "colab": {
          "base_uri": "https://localhost:8080/"
        },
        "id": "NKK5C_rlcNDl",
        "outputId": "0327ea49-d047-4412-fc83-b55f345c4d3c"
      },
      "execution_count": 29,
      "outputs": [
        {
          "output_type": "stream",
          "name": "stdout",
          "text": [
            "313/313 [==============================] - 1s 2ms/step\n",
            "313/313 [==============================] - 1s 3ms/step\n"
          ]
        }
      ]
    },
    {
      "cell_type": "code",
      "source": [
        "# use Matplotlib (don't ask)\n",
        "import matplotlib.pyplot as plt\n",
        "\n",
        "n = 10  # how many digits we will display\n",
        "plt.figure(figsize=(20, 4))\n",
        "for i in range(n):\n",
        "    # display original\n",
        "    ax = plt.subplot(2, n, i + 1)\n",
        "    plt.imshow(x_test[i].reshape(28, 28))\n",
        "    plt.gray()\n",
        "    ax.get_xaxis().set_visible(False)\n",
        "    ax.get_yaxis().set_visible(False)\n",
        "\n",
        "    # display reconstruction\n",
        "    ax = plt.subplot(2, n, i + 1 + n)\n",
        "    plt.imshow(decoded_imgs[i].reshape(28, 28))\n",
        "    plt.gray()\n",
        "    ax.get_xaxis().set_visible(False)\n",
        "    ax.get_yaxis().set_visible(False)\n",
        "plt.show()"
      ],
      "metadata": {
        "colab": {
          "base_uri": "https://localhost:8080/",
          "height": 304
        },
        "id": "ZQA_n46BcI47",
        "outputId": "fcdc6fa3-cd91-47d9-a45d-db11ab5d4f56"
      },
      "execution_count": 30,
      "outputs": [
        {
          "output_type": "display_data",
          "data": {
            "text/plain": [
              "<Figure size 2000x400 with 20 Axes>"
            ],
            "image/png": "[encoded data removed]"
          },
          "metadata": {}
        }
      ]
    }
  ]
}