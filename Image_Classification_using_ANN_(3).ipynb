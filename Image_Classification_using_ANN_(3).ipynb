{
  "nbformat": 4,
  "nbformat_minor": 0,
  "metadata": {
    "colab": {
      "provenance": [],
      "include_colab_link": true
    },
    "kernelspec": {
      "name": "python3",
      "display_name": "Python 3"
    },
    "language_info": {
      "name": "python"
    },
    "accelerator": "GPU"
  },
  "cells": [
    {
      "cell_type": "markdown",
      "metadata": {
        "id": "view-in-github",
        "colab_type": "text"
      },
      "source": [
        "<a href=\"https://colab.research.google.com/github/anjalimalviya28/Machine-learning-lab/blob/main/Image_Classification_using_ANN_(3).ipynb\" target=\"_parent\"><img src=\"https://colab.research.google.com/assets/colab-badge.svg\" alt=\"Open In Colab\"/></a>"
      ]
    },
    {
      "cell_type": "markdown",
      "metadata": {
        "id": "JT4a4dwlqhsd"
      },
      "source": [
        "# Joint Online Faculty Development programme on Deep Learning (Parallel Architecture) Aug 23 – Sep 3 , 2021"
      ]
    },
    {
      "cell_type": "markdown",
      "metadata": {
        "id": "XwMdAK1XqmPI"
      },
      "source": [
        "# Tutorial 4: Covid 19 Prediction using Artificial Neural Networks"
      ]
    },
    {
      "cell_type": "markdown",
      "metadata": {
        "id": "y9dbM1bxjvnU"
      },
      "source": [
        "Dataset: [Covid 19 Chest X-ray dataset](https://www.kaggle.com/tawsifurrahman/covid19-radiography-database)\n",
        "\n",
        "\n",
        "A team of researchers from Qatar University, Doha, Qatar, and the University of Dhaka, Bangladesh along with their collaborators from Pakistan and Malaysia in collaboration with medical doctors have created a database of chest X-ray images for COVID-19 positive cases along with Normal and Viral Pneumonia images. This COVID-19, normal, and other lung infection dataset is released in stages. In the first release, we have released 219 COVID-19, 1341 normal, and 1345 viral pneumonia chest X-ray (CXR) images. In the first update, we have increased the COVID-19 class to 1200 CXR images. In the 2nd update, we have increased the database to 3616 COVID-19 positive cases along with 10,192 Normal, 6012 Lung Opacity (Non-COVID lung infection), and 1345 Viral Pneumonia images. We will continue to update this database as soon as we have new x-ray images for COVID-19 pneumonia patients.\n",
        "\n"
      ]
    },
    {
      "cell_type": "markdown",
      "metadata": {
        "id": "9mHnC6nNtBK1"
      },
      "source": [
        "**1. Mount the Google Drive**"
      ]
    },
    {
      "cell_type": "code",
      "metadata": {
        "id": "gORvsC4_s_fY",
        "colab": {
          "base_uri": "https://localhost:8080/"
        },
        "outputId": "9c528bb7-c213-4f0a-dde8-3e21675bdf55"
      },
      "source": [
        "from google.colab import drive\n",
        "drive.mount('/content/drive')"
      ],
      "execution_count": 1,
      "outputs": [
        {
          "output_type": "stream",
          "name": "stdout",
          "text": [
            "Mounted at /content/drive\n"
          ]
        }
      ]
    },
    {
      "cell_type": "markdown",
      "metadata": {
        "id": "wiZOocimtGeu"
      },
      "source": [
        "**2. Move to the place where data resides**"
      ]
    },
    {
      "cell_type": "code",
      "metadata": {
        "id": "EdbGFIkPlah9"
      },
      "source": [
        "!cd /content/drive/MyDrive/CSIT1/"
      ],
      "execution_count": 2,
      "outputs": []
    },
    {
      "cell_type": "code",
      "source": [
        "!pwd\n"
      ],
      "metadata": {
        "colab": {
          "base_uri": "https://localhost:8080/"
        },
        "id": "4DnwwyuhBGTf",
        "outputId": "28a2f44b-a3e4-47a4-8794-9426c6b047ad"
      },
      "execution_count": 3,
      "outputs": [
        {
          "output_type": "stream",
          "name": "stdout",
          "text": [
            "/content\n"
          ]
        }
      ]
    },
    {
      "cell_type": "code",
      "metadata": {
        "id": "lqViJFpyjxJZ",
        "colab": {
          "base_uri": "https://localhost:8080/"
        },
        "outputId": "49c687a4-d508-4f4f-aa06-b2aabb774b6d"
      },
      "source": [
        "!ls"
      ],
      "execution_count": 4,
      "outputs": [
        {
          "output_type": "stream",
          "name": "stdout",
          "text": [
            "drive  sample_data\n"
          ]
        }
      ]
    },
    {
      "cell_type": "markdown",
      "metadata": {
        "id": "0e8v2RY-tKUs"
      },
      "source": [
        "**3. Unziping the dataset**"
      ]
    },
    {
      "cell_type": "code",
      "source": [
        "!pip install unzip"
      ],
      "metadata": {
        "colab": {
          "base_uri": "https://localhost:8080/"
        },
        "id": "PYfX_i50jzOc",
        "outputId": "2f64c8e5-d9c6-4d49-ae18-355e2ee22188"
      },
      "execution_count": 5,
      "outputs": [
        {
          "output_type": "stream",
          "name": "stdout",
          "text": [
            "Collecting unzip\n",
            "  Downloading unzip-1.0.0.tar.gz (704 bytes)\n",
            "  Preparing metadata (setup.py) ... \u001b[?25l\u001b[?25hdone\n",
            "Building wheels for collected packages: unzip\n",
            "  Building wheel for unzip (setup.py) ... \u001b[?25l\u001b[?25hdone\n",
            "  Created wheel for unzip: filename=unzip-1.0.0-py3-none-any.whl size=1283 sha256=52cffa4e78f23aa85ea4d1d1068cae2500e91d35e298bf022874d4a51f5ae042\n",
            "  Stored in directory: /root/.cache/pip/wheels/80/dc/7a/f8af45bc239e7933509183f038ea8d46f3610aab82b35369f4\n",
            "Successfully built unzip\n",
            "Installing collected packages: unzip\n",
            "Successfully installed unzip-1.0.0\n"
          ]
        }
      ]
    },
    {
      "cell_type": "code",
      "metadata": {
        "id": "kOWDshT6lb8K",
        "colab": {
          "base_uri": "https://localhost:8080/"
        },
        "outputId": "788c838a-1b28-49ac-eb79-fb94d209515d"
      },
      "source": [
        "!unzip  /content/drive/MyDrive/CSIT1/covid_dataset.zip"
      ],
      "execution_count": 6,
      "outputs": [
        {
          "output_type": "stream",
          "name": "stdout",
          "text": [
            "Archive:  /content/drive/MyDrive/CSIT1/covid_dataset.zip\n",
            "   creating: covid_dataset/\n",
            "   creating: covid_dataset/COVID/\n",
            "  inflating: covid_dataset/COVID/COVID-1.png  \n",
            "  inflating: covid_dataset/COVID/COVID-10.png  \n",
            "  inflating: covid_dataset/COVID/COVID-11.png  \n",
            "  inflating: covid_dataset/COVID/COVID-12.png  \n",
            "  inflating: covid_dataset/COVID/COVID-13.png  \n",
            "  inflating: covid_dataset/COVID/COVID-14.png  \n",
            "  inflating: covid_dataset/COVID/COVID-15.png  \n",
            "  inflating: covid_dataset/COVID/COVID-16.png  \n",
            "  inflating: covid_dataset/COVID/COVID-17.png  \n",
            "  inflating: covid_dataset/COVID/COVID-18.png  \n",
            "  inflating: covid_dataset/COVID/COVID-19.png  \n",
            "  inflating: covid_dataset/COVID/COVID-2.png  \n",
            "  inflating: covid_dataset/COVID/COVID-20.png  \n",
            "  inflating: covid_dataset/COVID/COVID-21.png  \n",
            "  inflating: covid_dataset/COVID/COVID-22.png  \n",
            "  inflating: covid_dataset/COVID/COVID-23.png  \n",
            "  inflating: covid_dataset/COVID/COVID-24.png  \n",
            "  inflating: covid_dataset/COVID/COVID-25.png  \n",
            "  inflating: covid_dataset/COVID/COVID-26.png  \n",
            "  inflating: covid_dataset/COVID/COVID-27.png  \n",
            "  inflating: covid_dataset/COVID/COVID-28.png  \n",
            "  inflating: covid_dataset/COVID/COVID-29.png  \n",
            "  inflating: covid_dataset/COVID/COVID-3.png  \n",
            "  inflating: covid_dataset/COVID/COVID-30.png  \n",
            "  inflating: covid_dataset/COVID/COVID-31.png  \n",
            "  inflating: covid_dataset/COVID/COVID-32.png  \n",
            "  inflating: covid_dataset/COVID/COVID-33.png  \n",
            "  inflating: covid_dataset/COVID/COVID-34.png  \n",
            "  inflating: covid_dataset/COVID/COVID-35.png  \n",
            "  inflating: covid_dataset/COVID/COVID-36.png  \n",
            "  inflating: covid_dataset/COVID/COVID-37.png  \n",
            "  inflating: covid_dataset/COVID/COVID-38.png  \n",
            "  inflating: covid_dataset/COVID/COVID-39.png  \n",
            "  inflating: covid_dataset/COVID/COVID-4.png  \n",
            "  inflating: covid_dataset/COVID/COVID-40.png  \n",
            "  inflating: covid_dataset/COVID/COVID-41.png  \n",
            "  inflating: covid_dataset/COVID/COVID-42.png  \n",
            "  inflating: covid_dataset/COVID/COVID-43.png  \n",
            "  inflating: covid_dataset/COVID/COVID-44.png  \n",
            "  inflating: covid_dataset/COVID/COVID-45.png  \n",
            "  inflating: covid_dataset/COVID/COVID-46.png  \n",
            "  inflating: covid_dataset/COVID/COVID-47.png  \n",
            "  inflating: covid_dataset/COVID/COVID-48.png  \n",
            "  inflating: covid_dataset/COVID/COVID-49.png  \n",
            "  inflating: covid_dataset/COVID/COVID-5.png  \n",
            "  inflating: covid_dataset/COVID/COVID-50.png  \n",
            "  inflating: covid_dataset/COVID/COVID-6.png  \n",
            "  inflating: covid_dataset/COVID/COVID-7.png  \n",
            "  inflating: covid_dataset/COVID/COVID-8.png  \n",
            "  inflating: covid_dataset/COVID/COVID-9.png  \n",
            "   creating: covid_dataset/Normal/\n",
            "  inflating: covid_dataset/Normal/Normal-1.png  \n",
            "  inflating: covid_dataset/Normal/Normal-10.png  \n",
            "  inflating: covid_dataset/Normal/Normal-11.png  \n",
            "  inflating: covid_dataset/Normal/Normal-12.png  \n",
            "  inflating: covid_dataset/Normal/Normal-13.png  \n",
            "  inflating: covid_dataset/Normal/Normal-14.png  \n",
            "  inflating: covid_dataset/Normal/Normal-15.png  \n",
            "  inflating: covid_dataset/Normal/Normal-16.png  \n",
            "  inflating: covid_dataset/Normal/Normal-17.png  \n",
            "  inflating: covid_dataset/Normal/Normal-18.png  \n",
            "  inflating: covid_dataset/Normal/Normal-19.png  \n",
            "  inflating: covid_dataset/Normal/Normal-2.png  \n",
            "  inflating: covid_dataset/Normal/Normal-20.png  \n",
            "  inflating: covid_dataset/Normal/Normal-21.png  \n",
            "  inflating: covid_dataset/Normal/Normal-22.png  \n",
            "  inflating: covid_dataset/Normal/Normal-23.png  \n",
            "  inflating: covid_dataset/Normal/Normal-24.png  \n",
            "  inflating: covid_dataset/Normal/Normal-25.png  \n",
            "  inflating: covid_dataset/Normal/Normal-26.png  \n",
            "  inflating: covid_dataset/Normal/Normal-27.png  \n",
            "  inflating: covid_dataset/Normal/Normal-28.png  \n",
            "  inflating: covid_dataset/Normal/Normal-29.png  \n",
            "  inflating: covid_dataset/Normal/Normal-3.png  \n",
            "  inflating: covid_dataset/Normal/Normal-30.png  \n",
            "  inflating: covid_dataset/Normal/Normal-31.png  \n",
            "  inflating: covid_dataset/Normal/Normal-32.png  \n",
            "  inflating: covid_dataset/Normal/Normal-33.png  \n",
            "  inflating: covid_dataset/Normal/Normal-34.png  \n",
            "  inflating: covid_dataset/Normal/Normal-35.png  \n",
            "  inflating: covid_dataset/Normal/Normal-36.png  \n",
            "  inflating: covid_dataset/Normal/Normal-37.png  \n",
            "  inflating: covid_dataset/Normal/Normal-38.png  \n",
            "  inflating: covid_dataset/Normal/Normal-39.png  \n",
            "  inflating: covid_dataset/Normal/Normal-4.png  \n",
            "  inflating: covid_dataset/Normal/Normal-40.png  \n",
            "  inflating: covid_dataset/Normal/Normal-41.png  \n",
            "  inflating: covid_dataset/Normal/Normal-42.png  \n",
            "  inflating: covid_dataset/Normal/Normal-43.png  \n",
            "  inflating: covid_dataset/Normal/Normal-44.png  \n",
            "  inflating: covid_dataset/Normal/Normal-45.png  \n",
            "  inflating: covid_dataset/Normal/Normal-46.png  \n",
            "  inflating: covid_dataset/Normal/Normal-47.png  \n",
            "  inflating: covid_dataset/Normal/Normal-48.png  \n",
            "  inflating: covid_dataset/Normal/Normal-49.png  \n",
            "  inflating: covid_dataset/Normal/Normal-5.png  \n",
            "  inflating: covid_dataset/Normal/Normal-50.png  \n",
            "  inflating: covid_dataset/Normal/Normal-6.png  \n",
            "  inflating: covid_dataset/Normal/Normal-7.png  \n",
            "  inflating: covid_dataset/Normal/Normal-8.png  \n",
            "  inflating: covid_dataset/Normal/Normal-9.png  \n",
            "   creating: covid_dataset/Viral Pneumonia/\n",
            "  inflating: covid_dataset/Viral Pneumonia/Viral Pneumonia-1.png  \n",
            "  inflating: covid_dataset/Viral Pneumonia/Viral Pneumonia-10.png  \n",
            "  inflating: covid_dataset/Viral Pneumonia/Viral Pneumonia-11.png  \n",
            "  inflating: covid_dataset/Viral Pneumonia/Viral Pneumonia-12.png  \n",
            "  inflating: covid_dataset/Viral Pneumonia/Viral Pneumonia-13.png  \n",
            "  inflating: covid_dataset/Viral Pneumonia/Viral Pneumonia-14.png  \n",
            "  inflating: covid_dataset/Viral Pneumonia/Viral Pneumonia-15.png  \n",
            "  inflating: covid_dataset/Viral Pneumonia/Viral Pneumonia-16.png  \n",
            "  inflating: covid_dataset/Viral Pneumonia/Viral Pneumonia-17.png  \n",
            "  inflating: covid_dataset/Viral Pneumonia/Viral Pneumonia-18.png  \n",
            "  inflating: covid_dataset/Viral Pneumonia/Viral Pneumonia-19.png  \n",
            "  inflating: covid_dataset/Viral Pneumonia/Viral Pneumonia-2.png  \n",
            "  inflating: covid_dataset/Viral Pneumonia/Viral Pneumonia-20.png  \n",
            "  inflating: covid_dataset/Viral Pneumonia/Viral Pneumonia-21.png  \n",
            "  inflating: covid_dataset/Viral Pneumonia/Viral Pneumonia-22.png  \n",
            "  inflating: covid_dataset/Viral Pneumonia/Viral Pneumonia-23.png  \n",
            "  inflating: covid_dataset/Viral Pneumonia/Viral Pneumonia-24.png  \n",
            "  inflating: covid_dataset/Viral Pneumonia/Viral Pneumonia-25.png  \n",
            "  inflating: covid_dataset/Viral Pneumonia/Viral Pneumonia-26.png  \n",
            "  inflating: covid_dataset/Viral Pneumonia/Viral Pneumonia-27.png  \n",
            "  inflating: covid_dataset/Viral Pneumonia/Viral Pneumonia-28.png  \n",
            "  inflating: covid_dataset/Viral Pneumonia/Viral Pneumonia-29.png  \n",
            "  inflating: covid_dataset/Viral Pneumonia/Viral Pneumonia-3.png  \n",
            "  inflating: covid_dataset/Viral Pneumonia/Viral Pneumonia-30.png  \n",
            "  inflating: covid_dataset/Viral Pneumonia/Viral Pneumonia-31.png  \n",
            "  inflating: covid_dataset/Viral Pneumonia/Viral Pneumonia-32.png  \n",
            "  inflating: covid_dataset/Viral Pneumonia/Viral Pneumonia-33.png  \n",
            "  inflating: covid_dataset/Viral Pneumonia/Viral Pneumonia-34.png  \n",
            "  inflating: covid_dataset/Viral Pneumonia/Viral Pneumonia-35.png  \n",
            "  inflating: covid_dataset/Viral Pneumonia/Viral Pneumonia-36.png  \n",
            "  inflating: covid_dataset/Viral Pneumonia/Viral Pneumonia-37.png  \n",
            "  inflating: covid_dataset/Viral Pneumonia/Viral Pneumonia-38.png  \n",
            "  inflating: covid_dataset/Viral Pneumonia/Viral Pneumonia-39.png  \n",
            "  inflating: covid_dataset/Viral Pneumonia/Viral Pneumonia-4.png  \n",
            "  inflating: covid_dataset/Viral Pneumonia/Viral Pneumonia-40.png  \n",
            "  inflating: covid_dataset/Viral Pneumonia/Viral Pneumonia-41.png  \n",
            "  inflating: covid_dataset/Viral Pneumonia/Viral Pneumonia-42.png  \n",
            "  inflating: covid_dataset/Viral Pneumonia/Viral Pneumonia-43.png  \n",
            "  inflating: covid_dataset/Viral Pneumonia/Viral Pneumonia-44.png  \n",
            "  inflating: covid_dataset/Viral Pneumonia/Viral Pneumonia-45.png  \n",
            "  inflating: covid_dataset/Viral Pneumonia/Viral Pneumonia-46.png  \n",
            "  inflating: covid_dataset/Viral Pneumonia/Viral Pneumonia-47.png  \n",
            "  inflating: covid_dataset/Viral Pneumonia/Viral Pneumonia-48.png  \n",
            "  inflating: covid_dataset/Viral Pneumonia/Viral Pneumonia-49.png  \n",
            "  inflating: covid_dataset/Viral Pneumonia/Viral Pneumonia-5.png  \n",
            "  inflating: covid_dataset/Viral Pneumonia/Viral Pneumonia-50.png  \n",
            "  inflating: covid_dataset/Viral Pneumonia/Viral Pneumonia-6.png  \n",
            "  inflating: covid_dataset/Viral Pneumonia/Viral Pneumonia-7.png  \n",
            "  inflating: covid_dataset/Viral Pneumonia/Viral Pneumonia-8.png  \n",
            "  inflating: covid_dataset/Viral Pneumonia/Viral Pneumonia-9.png  \n"
          ]
        }
      ]
    },
    {
      "cell_type": "markdown",
      "metadata": {
        "id": "xvuRmzA0tNw0"
      },
      "source": [
        "**4. Install split folder python package**\n",
        "\n",
        "https://pypi.org/project/split-folders/"
      ]
    },
    {
      "cell_type": "code",
      "metadata": {
        "id": "r-4b_r2qlenB",
        "colab": {
          "base_uri": "https://localhost:8080/"
        },
        "outputId": "5eaf6ea0-4392-45d1-f99c-9b541faaea2d"
      },
      "source": [
        "!pip install split_folders"
      ],
      "execution_count": 7,
      "outputs": [
        {
          "output_type": "stream",
          "name": "stdout",
          "text": [
            "Collecting split_folders\n",
            "  Downloading split_folders-0.5.1-py3-none-any.whl (8.4 kB)\n",
            "Installing collected packages: split_folders\n",
            "Successfully installed split_folders-0.5.1\n"
          ]
        }
      ]
    },
    {
      "cell_type": "markdown",
      "metadata": {
        "id": "yq0KuuUatVi-"
      },
      "source": [
        "**5. Splitting the data in training, testing and validation set**"
      ]
    },
    {
      "cell_type": "code",
      "metadata": {
        "id": "8xXGHVOIlheA",
        "colab": {
          "base_uri": "https://localhost:8080/"
        },
        "outputId": "337fa458-d198-4c34-9799-ce01b0d51374"
      },
      "source": [
        "import splitfolders\n",
        "splitfolders.ratio(\"covid_dataset\", output=\"split\", seed=1337, ratio=(.8, .1, .1), group_prefix=None)"
      ],
      "execution_count": 8,
      "outputs": [
        {
          "output_type": "stream",
          "name": "stderr",
          "text": [
            "Copying files: 150 files [00:00, 6745.42 files/s]\n"
          ]
        }
      ]
    },
    {
      "cell_type": "code",
      "source": [
        "import splitfolders\n",
        "splitfolders.ratio(\"covid_dataset\", output=\"split\", seed=1337, ratio=(.8, .1, .1), group_prefix=None)"
      ],
      "metadata": {
        "colab": {
          "base_uri": "https://localhost:8080/"
        },
        "id": "YlqeXzb0AXtS",
        "outputId": "47348b6c-5883-4708-cc8d-90a86edc1148"
      },
      "execution_count": 9,
      "outputs": [
        {
          "output_type": "stream",
          "name": "stderr",
          "text": [
            "Copying files: 150 files [00:00, 2787.17 files/s]\n"
          ]
        }
      ]
    },
    {
      "cell_type": "markdown",
      "metadata": {
        "id": "4_rTBEKCtaTR"
      },
      "source": [
        "**6. Loading the dataset with normalization in batches**"
      ]
    },
    {
      "cell_type": "code",
      "metadata": {
        "id": "4of-TiQPlkCZ",
        "colab": {
          "base_uri": "https://localhost:8080/"
        },
        "outputId": "24fdc03c-c4b2-418f-fca5-7e1aee46c206"
      },
      "source": [
        "from keras.preprocessing.image import ImageDataGenerator\n",
        "\n",
        "# Normalize training and validation data in the range of 0 to 1\n",
        "train_datagen = ImageDataGenerator(rescale=1./255)\n",
        "validation_datagen = ImageDataGenerator(rescale=1./255)\n",
        "test_datagen = ImageDataGenerator(rescale=1./255)\n",
        "\n",
        "# Read the training sample and set the batch size\n",
        "train_generator = train_datagen.flow_from_directory(\n",
        "        'split/train/',\n",
        "        target_size=(128, 128),\n",
        "        batch_size=8,\n",
        "        seed=100,\n",
        "        class_mode='categorical')\n",
        "\n",
        "# Read Validation data from directory and define target size with batch size\n",
        "validation_generator = validation_datagen.flow_from_directory(\n",
        "        'split/val/',\n",
        "        target_size=(128, 128),\n",
        "        batch_size=8,\n",
        "        class_mode='categorical',\n",
        "        seed=1000,\n",
        "        shuffle=False)\n",
        "\n",
        "test_generator = test_datagen.flow_from_directory(\n",
        "        'split/test/',\n",
        "        target_size=(128, 128),\n",
        "        batch_size=8,\n",
        "        seed=500,\n",
        "        class_mode='categorical',\n",
        "        shuffle=False)"
      ],
      "execution_count": 10,
      "outputs": [
        {
          "output_type": "stream",
          "name": "stdout",
          "text": [
            "Found 120 images belonging to 3 classes.\n",
            "Found 15 images belonging to 3 classes.\n",
            "Found 15 images belonging to 3 classes.\n"
          ]
        }
      ]
    },
    {
      "cell_type": "markdown",
      "metadata": {
        "id": "ZqmlFmyitf8O"
      },
      "source": [
        "**7. Model Building**"
      ]
    },
    {
      "cell_type": "code",
      "metadata": {
        "id": "RrA7f0eKl4tH",
        "colab": {
          "base_uri": "https://localhost:8080/"
        },
        "outputId": "66d6915c-0b52-40ea-cff5-42bc8a81cb82"
      },
      "source": [
        "from tensorflow import keras\n",
        "from tensorflow.keras import layers\n",
        "inputs = keras.Input(shape=(128, 128,3))\n",
        "x = layers.Flatten()(inputs)\n",
        "x = layers.Dense(32, activation=\"relu\")(x)\n",
        "x = layers.Dense(32, activation=\"relu\")(x)\n",
        "x = layers.Dense(64, activation='relu')(x)\n",
        "outputs = layers.Dense(3, activation=\"softmax\")(x)\n",
        "model = keras.Model(inputs, outputs)\n",
        "model.summary()"
      ],
      "execution_count": 20,
      "outputs": [
        {
          "output_type": "stream",
          "name": "stdout",
          "text": [
            "Model: \"model_1\"\n",
            "_________________________________________________________________\n",
            " Layer (type)                Output Shape              Param #   \n",
            "=================================================================\n",
            " input_2 (InputLayer)        [(None, 128, 128, 3)]     0         \n",
            "                                                                 \n",
            " flatten_1 (Flatten)         (None, 49152)             0         \n",
            "                                                                 \n",
            " dense_3 (Dense)             (None, 32)                1572896   \n",
            "                                                                 \n",
            " dense_4 (Dense)             (None, 32)                1056      \n",
            "                                                                 \n",
            " dense_5 (Dense)             (None, 64)                2112      \n",
            "                                                                 \n",
            " dense_6 (Dense)             (None, 3)                 195       \n",
            "                                                                 \n",
            "=================================================================\n",
            "Total params: 1576259 (6.01 MB)\n",
            "Trainable params: 1576259 (6.01 MB)\n",
            "Non-trainable params: 0 (0.00 Byte)\n",
            "_________________________________________________________________\n"
          ]
        }
      ]
    },
    {
      "cell_type": "markdown",
      "metadata": {
        "id": "_437haxhtjFa"
      },
      "source": [
        "**8. Model Compilation and Training**"
      ]
    },
    {
      "cell_type": "code",
      "metadata": {
        "id": "DixxjVJelrcg",
        "colab": {
          "base_uri": "https://localhost:8080/"
        },
        "outputId": "91369389-fa33-4f64-bc09-bab7127c4a38"
      },
      "source": [
        "from tensorflow.keras.optimizers import Adam\n",
        "\n",
        "adam = Adam(learning_rate=0.0001)\n",
        "# We are going to use accuracy metrics and cross entropy loss as performance parameters\n",
        "model.compile(adam, loss='categorical_crossentropy', metrics=['acc'])\n",
        "# Train the model\n",
        "history = model.fit(train_generator,\n",
        "      steps_per_epoch=train_generator.samples/train_generator.batch_size,\n",
        "      epochs=100,\n",
        "      validation_data=validation_generator,\n",
        "      validation_steps=validation_generator.samples/validation_generator.batch_size,\n",
        "      verbose=1)"
      ],
      "execution_count": 21,
      "outputs": [
        {
          "output_type": "stream",
          "name": "stdout",
          "text": [
            "Epoch 1/100\n",
            "15/15 [==============================] - 2s 34ms/step - loss: 1.2097 - acc: 0.3583 - val_loss: 1.0036 - val_acc: 0.6667\n",
            "Epoch 2/100\n",
            "15/15 [==============================] - 0s 25ms/step - loss: 0.9553 - acc: 0.4917 - val_loss: 0.8951 - val_acc: 0.6667\n",
            "Epoch 3/100\n",
            "15/15 [==============================] - 0s 24ms/step - loss: 0.8755 - acc: 0.6000 - val_loss: 0.7742 - val_acc: 0.6667\n",
            "Epoch 4/100\n",
            "15/15 [==============================] - 0s 23ms/step - loss: 0.7634 - acc: 0.7000 - val_loss: 0.7009 - val_acc: 0.6000\n",
            "Epoch 5/100\n",
            "15/15 [==============================] - 0s 25ms/step - loss: 0.6904 - acc: 0.6917 - val_loss: 0.5862 - val_acc: 0.8000\n",
            "Epoch 6/100\n",
            "15/15 [==============================] - 0s 25ms/step - loss: 0.6244 - acc: 0.7417 - val_loss: 0.5943 - val_acc: 0.7333\n",
            "Epoch 7/100\n",
            "15/15 [==============================] - 0s 25ms/step - loss: 0.5900 - acc: 0.7333 - val_loss: 0.5386 - val_acc: 0.8000\n",
            "Epoch 8/100\n",
            "15/15 [==============================] - 0s 25ms/step - loss: 0.5851 - acc: 0.7417 - val_loss: 0.5191 - val_acc: 0.8667\n",
            "Epoch 9/100\n",
            "15/15 [==============================] - 0s 25ms/step - loss: 0.5627 - acc: 0.7417 - val_loss: 0.4388 - val_acc: 0.8667\n",
            "Epoch 10/100\n",
            "15/15 [==============================] - 0s 25ms/step - loss: 0.5326 - acc: 0.7500 - val_loss: 0.4709 - val_acc: 0.8667\n",
            "Epoch 11/100\n",
            "15/15 [==============================] - 0s 23ms/step - loss: 0.5027 - acc: 0.7750 - val_loss: 0.4225 - val_acc: 0.8667\n",
            "Epoch 12/100\n",
            "15/15 [==============================] - 0s 25ms/step - loss: 0.4588 - acc: 0.8167 - val_loss: 0.4559 - val_acc: 0.9333\n",
            "Epoch 13/100\n",
            "15/15 [==============================] - 0s 26ms/step - loss: 0.4610 - acc: 0.8250 - val_loss: 0.4062 - val_acc: 0.8667\n",
            "Epoch 14/100\n",
            "15/15 [==============================] - 0s 25ms/step - loss: 0.4413 - acc: 0.8333 - val_loss: 0.4408 - val_acc: 0.8000\n",
            "Epoch 15/100\n",
            "15/15 [==============================] - 0s 24ms/step - loss: 0.4266 - acc: 0.8083 - val_loss: 0.3713 - val_acc: 0.9333\n",
            "Epoch 16/100\n",
            "15/15 [==============================] - 0s 24ms/step - loss: 0.4063 - acc: 0.8417 - val_loss: 0.3951 - val_acc: 0.8667\n",
            "Epoch 17/100\n",
            "15/15 [==============================] - 0s 25ms/step - loss: 0.4008 - acc: 0.8500 - val_loss: 0.3799 - val_acc: 0.8000\n",
            "Epoch 18/100\n",
            "15/15 [==============================] - 1s 43ms/step - loss: 0.3846 - acc: 0.8500 - val_loss: 0.8105 - val_acc: 0.5333\n",
            "Epoch 19/100\n",
            "15/15 [==============================] - 1s 37ms/step - loss: 0.4545 - acc: 0.7500 - val_loss: 0.4411 - val_acc: 0.8000\n",
            "Epoch 20/100\n",
            "15/15 [==============================] - 1s 41ms/step - loss: 0.3735 - acc: 0.8583 - val_loss: 0.3457 - val_acc: 0.8667\n",
            "Epoch 21/100\n",
            "15/15 [==============================] - 0s 30ms/step - loss: 0.3760 - acc: 0.8583 - val_loss: 0.3865 - val_acc: 0.9333\n",
            "Epoch 22/100\n",
            "15/15 [==============================] - 0s 24ms/step - loss: 0.4221 - acc: 0.8250 - val_loss: 0.3940 - val_acc: 0.9333\n",
            "Epoch 23/100\n",
            "15/15 [==============================] - 0s 24ms/step - loss: 0.3703 - acc: 0.8583 - val_loss: 0.3326 - val_acc: 0.8667\n",
            "Epoch 24/100\n",
            "15/15 [==============================] - 0s 25ms/step - loss: 0.3512 - acc: 0.8500 - val_loss: 0.3400 - val_acc: 0.9333\n",
            "Epoch 25/100\n",
            "15/15 [==============================] - 0s 24ms/step - loss: 0.3444 - acc: 0.8667 - val_loss: 0.3273 - val_acc: 0.9333\n",
            "Epoch 26/100\n",
            "15/15 [==============================] - 0s 24ms/step - loss: 0.3439 - acc: 0.8583 - val_loss: 0.3551 - val_acc: 0.8667\n",
            "Epoch 27/100\n",
            "15/15 [==============================] - 0s 24ms/step - loss: 0.3679 - acc: 0.8333 - val_loss: 0.4033 - val_acc: 0.9333\n",
            "Epoch 28/100\n",
            "15/15 [==============================] - 0s 24ms/step - loss: 0.2956 - acc: 0.9000 - val_loss: 0.3135 - val_acc: 0.9333\n",
            "Epoch 29/100\n",
            "15/15 [==============================] - 0s 24ms/step - loss: 0.2918 - acc: 0.8917 - val_loss: 0.3792 - val_acc: 0.9333\n",
            "Epoch 30/100\n",
            "15/15 [==============================] - 0s 26ms/step - loss: 0.2848 - acc: 0.9083 - val_loss: 0.3221 - val_acc: 0.8667\n",
            "Epoch 31/100\n",
            "15/15 [==============================] - 0s 27ms/step - loss: 0.2612 - acc: 0.9083 - val_loss: 0.3594 - val_acc: 0.9333\n",
            "Epoch 32/100\n",
            "15/15 [==============================] - 0s 24ms/step - loss: 0.3046 - acc: 0.8667 - val_loss: 0.3201 - val_acc: 0.9333\n",
            "Epoch 33/100\n",
            "15/15 [==============================] - 0s 26ms/step - loss: 0.2327 - acc: 0.9167 - val_loss: 0.4386 - val_acc: 0.8000\n",
            "Epoch 34/100\n",
            "15/15 [==============================] - 0s 24ms/step - loss: 0.2534 - acc: 0.9167 - val_loss: 0.3213 - val_acc: 1.0000\n",
            "Epoch 35/100\n",
            "15/15 [==============================] - 0s 25ms/step - loss: 0.2498 - acc: 0.9333 - val_loss: 0.4134 - val_acc: 0.7333\n",
            "Epoch 36/100\n",
            "15/15 [==============================] - 0s 26ms/step - loss: 0.2543 - acc: 0.9167 - val_loss: 0.2993 - val_acc: 0.8667\n",
            "Epoch 37/100\n",
            "15/15 [==============================] - 0s 26ms/step - loss: 0.2307 - acc: 0.9417 - val_loss: 0.3327 - val_acc: 0.9333\n",
            "Epoch 38/100\n",
            "15/15 [==============================] - 0s 25ms/step - loss: 0.2324 - acc: 0.9083 - val_loss: 0.3213 - val_acc: 0.9333\n",
            "Epoch 39/100\n",
            "15/15 [==============================] - 0s 27ms/step - loss: 0.2204 - acc: 0.9333 - val_loss: 0.3750 - val_acc: 0.9333\n",
            "Epoch 40/100\n",
            "15/15 [==============================] - 0s 25ms/step - loss: 0.2531 - acc: 0.9167 - val_loss: 0.3041 - val_acc: 0.9333\n",
            "Epoch 41/100\n",
            "15/15 [==============================] - 1s 42ms/step - loss: 0.2158 - acc: 0.9333 - val_loss: 0.3474 - val_acc: 0.9333\n",
            "Epoch 42/100\n",
            "15/15 [==============================] - 1s 42ms/step - loss: 0.2014 - acc: 0.9417 - val_loss: 0.3071 - val_acc: 0.9333\n",
            "Epoch 43/100\n",
            "15/15 [==============================] - 0s 24ms/step - loss: 0.1934 - acc: 0.9417 - val_loss: 0.4082 - val_acc: 0.8000\n",
            "Epoch 44/100\n",
            "15/15 [==============================] - 0s 24ms/step - loss: 0.1796 - acc: 0.9583 - val_loss: 0.3536 - val_acc: 0.9333\n",
            "Epoch 45/100\n",
            "15/15 [==============================] - 0s 24ms/step - loss: 0.1695 - acc: 0.9583 - val_loss: 0.3207 - val_acc: 0.8667\n",
            "Epoch 46/100\n",
            "15/15 [==============================] - 0s 25ms/step - loss: 0.1788 - acc: 0.9750 - val_loss: 0.3293 - val_acc: 0.8667\n",
            "Epoch 47/100\n",
            "15/15 [==============================] - 0s 25ms/step - loss: 0.1695 - acc: 0.9583 - val_loss: 0.3961 - val_acc: 0.9333\n",
            "Epoch 48/100\n",
            "15/15 [==============================] - 0s 24ms/step - loss: 0.1826 - acc: 0.9333 - val_loss: 0.3888 - val_acc: 0.8667\n",
            "Epoch 49/100\n",
            "15/15 [==============================] - 0s 24ms/step - loss: 0.1687 - acc: 0.9750 - val_loss: 0.3111 - val_acc: 0.8667\n",
            "Epoch 50/100\n",
            "15/15 [==============================] - 0s 26ms/step - loss: 0.1660 - acc: 0.9750 - val_loss: 0.4287 - val_acc: 0.8000\n",
            "Epoch 51/100\n",
            "15/15 [==============================] - 0s 25ms/step - loss: 0.1512 - acc: 0.9667 - val_loss: 0.3975 - val_acc: 0.8000\n",
            "Epoch 52/100\n",
            "15/15 [==============================] - 0s 24ms/step - loss: 0.1433 - acc: 0.9750 - val_loss: 0.4578 - val_acc: 0.8667\n",
            "Epoch 53/100\n",
            "15/15 [==============================] - 0s 24ms/step - loss: 0.1414 - acc: 0.9667 - val_loss: 0.3275 - val_acc: 0.9333\n",
            "Epoch 54/100\n",
            "15/15 [==============================] - 0s 23ms/step - loss: 0.1516 - acc: 0.9750 - val_loss: 0.4242 - val_acc: 0.8667\n",
            "Epoch 55/100\n",
            "15/15 [==============================] - 0s 26ms/step - loss: 0.1514 - acc: 0.9667 - val_loss: 0.2856 - val_acc: 0.8667\n",
            "Epoch 56/100\n",
            "15/15 [==============================] - 0s 23ms/step - loss: 0.1437 - acc: 0.9750 - val_loss: 0.3370 - val_acc: 0.9333\n",
            "Epoch 57/100\n",
            "15/15 [==============================] - 0s 23ms/step - loss: 0.1309 - acc: 0.9750 - val_loss: 0.3095 - val_acc: 0.9333\n",
            "Epoch 58/100\n",
            "15/15 [==============================] - 0s 24ms/step - loss: 0.1106 - acc: 0.9833 - val_loss: 0.4873 - val_acc: 0.8000\n",
            "Epoch 59/100\n",
            "15/15 [==============================] - 0s 24ms/step - loss: 0.1372 - acc: 0.9750 - val_loss: 0.4474 - val_acc: 0.8667\n",
            "Epoch 60/100\n",
            "15/15 [==============================] - 0s 26ms/step - loss: 0.1199 - acc: 0.9917 - val_loss: 0.3685 - val_acc: 0.8000\n",
            "Epoch 61/100\n",
            "15/15 [==============================] - 0s 24ms/step - loss: 0.1457 - acc: 0.9500 - val_loss: 0.3813 - val_acc: 0.8667\n",
            "Epoch 62/100\n",
            "15/15 [==============================] - 1s 36ms/step - loss: 0.1230 - acc: 0.9750 - val_loss: 0.3227 - val_acc: 0.8667\n",
            "Epoch 63/100\n",
            "15/15 [==============================] - 1s 41ms/step - loss: 0.1284 - acc: 0.9833 - val_loss: 0.3491 - val_acc: 0.8667\n",
            "Epoch 64/100\n",
            "15/15 [==============================] - 1s 38ms/step - loss: 0.1112 - acc: 0.9833 - val_loss: 0.3635 - val_acc: 0.8000\n",
            "Epoch 65/100\n",
            "15/15 [==============================] - 0s 30ms/step - loss: 0.1151 - acc: 0.9583 - val_loss: 0.3313 - val_acc: 0.8667\n",
            "Epoch 66/100\n",
            "15/15 [==============================] - 0s 24ms/step - loss: 0.1731 - acc: 0.9417 - val_loss: 0.3702 - val_acc: 0.8667\n",
            "Epoch 67/100\n",
            "15/15 [==============================] - 0s 24ms/step - loss: 0.2288 - acc: 0.8833 - val_loss: 0.5145 - val_acc: 0.7333\n",
            "Epoch 68/100\n",
            "15/15 [==============================] - 0s 24ms/step - loss: 0.1715 - acc: 0.9583 - val_loss: 0.4337 - val_acc: 0.8000\n",
            "Epoch 69/100\n",
            "15/15 [==============================] - 0s 24ms/step - loss: 0.1073 - acc: 0.9750 - val_loss: 0.4127 - val_acc: 0.8667\n",
            "Epoch 70/100\n",
            "15/15 [==============================] - 0s 24ms/step - loss: 0.0911 - acc: 0.9833 - val_loss: 0.3805 - val_acc: 0.8667\n",
            "Epoch 71/100\n",
            "15/15 [==============================] - 0s 24ms/step - loss: 0.0876 - acc: 0.9917 - val_loss: 0.3925 - val_acc: 0.8667\n",
            "Epoch 72/100\n",
            "15/15 [==============================] - 0s 25ms/step - loss: 0.0849 - acc: 0.9833 - val_loss: 0.3712 - val_acc: 0.8667\n",
            "Epoch 73/100\n",
            "15/15 [==============================] - 0s 24ms/step - loss: 0.0943 - acc: 0.9833 - val_loss: 0.3913 - val_acc: 0.8667\n",
            "Epoch 74/100\n",
            "15/15 [==============================] - 0s 24ms/step - loss: 0.0968 - acc: 0.9833 - val_loss: 0.4439 - val_acc: 0.8000\n",
            "Epoch 75/100\n",
            "15/15 [==============================] - 0s 24ms/step - loss: 0.0942 - acc: 0.9750 - val_loss: 0.3212 - val_acc: 0.8667\n",
            "Epoch 76/100\n",
            "15/15 [==============================] - 0s 27ms/step - loss: 0.0854 - acc: 0.9917 - val_loss: 0.4618 - val_acc: 0.8667\n",
            "Epoch 77/100\n",
            "15/15 [==============================] - 0s 25ms/step - loss: 0.0888 - acc: 0.9833 - val_loss: 0.4466 - val_acc: 0.8000\n",
            "Epoch 78/100\n",
            "15/15 [==============================] - 0s 26ms/step - loss: 0.0783 - acc: 0.9917 - val_loss: 0.3879 - val_acc: 0.8000\n",
            "Epoch 79/100\n",
            "15/15 [==============================] - 0s 25ms/step - loss: 0.0743 - acc: 1.0000 - val_loss: 0.3880 - val_acc: 0.8667\n",
            "Epoch 80/100\n",
            "15/15 [==============================] - 0s 24ms/step - loss: 0.0823 - acc: 0.9750 - val_loss: 0.3753 - val_acc: 0.8667\n",
            "Epoch 81/100\n",
            "15/15 [==============================] - 0s 25ms/step - loss: 0.0739 - acc: 0.9917 - val_loss: 0.4278 - val_acc: 0.8000\n",
            "Epoch 82/100\n",
            "15/15 [==============================] - 0s 24ms/step - loss: 0.0690 - acc: 0.9917 - val_loss: 0.3915 - val_acc: 0.8000\n",
            "Epoch 83/100\n",
            "15/15 [==============================] - 0s 32ms/step - loss: 0.0700 - acc: 0.9917 - val_loss: 0.3541 - val_acc: 0.8000\n",
            "Epoch 84/100\n",
            "15/15 [==============================] - 1s 45ms/step - loss: 0.0858 - acc: 0.9917 - val_loss: 0.4213 - val_acc: 0.8667\n",
            "Epoch 85/100\n",
            "15/15 [==============================] - 1s 44ms/step - loss: 0.0574 - acc: 1.0000 - val_loss: 0.4323 - val_acc: 0.8667\n",
            "Epoch 86/100\n",
            "15/15 [==============================] - 0s 25ms/step - loss: 0.0692 - acc: 0.9833 - val_loss: 0.5477 - val_acc: 0.8000\n",
            "Epoch 87/100\n",
            "15/15 [==============================] - 0s 24ms/step - loss: 0.0698 - acc: 0.9917 - val_loss: 0.3653 - val_acc: 0.8667\n",
            "Epoch 88/100\n",
            "15/15 [==============================] - 0s 25ms/step - loss: 0.0569 - acc: 1.0000 - val_loss: 0.4965 - val_acc: 0.8667\n",
            "Epoch 89/100\n",
            "15/15 [==============================] - 0s 23ms/step - loss: 0.0667 - acc: 0.9833 - val_loss: 0.4154 - val_acc: 0.8667\n",
            "Epoch 90/100\n",
            "15/15 [==============================] - 0s 25ms/step - loss: 0.0601 - acc: 1.0000 - val_loss: 0.3708 - val_acc: 0.8000\n",
            "Epoch 91/100\n",
            "15/15 [==============================] - 0s 25ms/step - loss: 0.0811 - acc: 0.9833 - val_loss: 0.5073 - val_acc: 0.7333\n",
            "Epoch 92/100\n",
            "15/15 [==============================] - 0s 25ms/step - loss: 0.0743 - acc: 1.0000 - val_loss: 0.3985 - val_acc: 0.8000\n",
            "Epoch 93/100\n",
            "15/15 [==============================] - 0s 24ms/step - loss: 0.0897 - acc: 0.9750 - val_loss: 0.3690 - val_acc: 0.8667\n",
            "Epoch 94/100\n",
            "15/15 [==============================] - 0s 25ms/step - loss: 0.0711 - acc: 0.9917 - val_loss: 0.5102 - val_acc: 0.8667\n",
            "Epoch 95/100\n",
            "15/15 [==============================] - 0s 23ms/step - loss: 0.0567 - acc: 1.0000 - val_loss: 0.3658 - val_acc: 0.8667\n",
            "Epoch 96/100\n",
            "15/15 [==============================] - 0s 24ms/step - loss: 0.0466 - acc: 1.0000 - val_loss: 0.4610 - val_acc: 0.8667\n",
            "Epoch 97/100\n",
            "15/15 [==============================] - 0s 24ms/step - loss: 0.0581 - acc: 0.9917 - val_loss: 0.4877 - val_acc: 0.8000\n",
            "Epoch 98/100\n",
            "15/15 [==============================] - 0s 24ms/step - loss: 0.0498 - acc: 1.0000 - val_loss: 0.4629 - val_acc: 0.8667\n",
            "Epoch 99/100\n",
            "15/15 [==============================] - 0s 25ms/step - loss: 0.0443 - acc: 1.0000 - val_loss: 0.4527 - val_acc: 0.8667\n",
            "Epoch 100/100\n",
            "15/15 [==============================] - 0s 24ms/step - loss: 0.0423 - acc: 1.0000 - val_loss: 0.4032 - val_acc: 0.8667\n"
          ]
        }
      ]
    },
    {
      "cell_type": "markdown",
      "metadata": {
        "id": "7h2kqqa0tpx9"
      },
      "source": [
        "**9. Model saving**"
      ]
    },
    {
      "cell_type": "code",
      "metadata": {
        "id": "AMlZWxBhnfjh"
      },
      "source": [
        "model.save('covid_classification.h5')"
      ],
      "execution_count": 22,
      "outputs": []
    },
    {
      "cell_type": "markdown",
      "metadata": {
        "id": "v64VrifGtsSn"
      },
      "source": [
        "**10. Model loading**"
      ]
    },
    {
      "cell_type": "code",
      "metadata": {
        "id": "h5kAXwzBoIzp"
      },
      "source": [
        "from tensorflow.keras import models\n",
        "model = models.load_model('covid_classification.h5')"
      ],
      "execution_count": 23,
      "outputs": []
    },
    {
      "cell_type": "markdown",
      "metadata": {
        "id": "EuGiWfjQtvDq"
      },
      "source": [
        "**11. Model weights saving**"
      ]
    },
    {
      "cell_type": "code",
      "metadata": {
        "id": "brmKRhGtoZVA"
      },
      "source": [
        "model.save_weights('covid_classification_weights.h5')"
      ],
      "execution_count": 24,
      "outputs": []
    },
    {
      "cell_type": "markdown",
      "metadata": {
        "id": "g_mHfakptxUF"
      },
      "source": [
        "**12. Model weights loading**"
      ]
    },
    {
      "cell_type": "code",
      "metadata": {
        "id": "Oc3YG_vioL9a"
      },
      "source": [
        "model.load_weights('covid_classification_weights.h5')"
      ],
      "execution_count": 25,
      "outputs": []
    },
    {
      "cell_type": "markdown",
      "metadata": {
        "id": "YJhgz0AAtzcm"
      },
      "source": [
        "**13. Plotting accuracy and loss graph for training and validation dataset**"
      ]
    },
    {
      "cell_type": "code",
      "metadata": {
        "id": "lKLbBshSocU6"
      },
      "source": [
        "train_acc = history.history['acc']\n",
        "val_acc = history.history['val_acc']\n",
        "train_loss = history.history['loss']\n",
        "val_loss = history.history['val_loss']"
      ],
      "execution_count": 26,
      "outputs": []
    },
    {
      "cell_type": "code",
      "metadata": {
        "id": "BfqOqEpVogvN",
        "colab": {
          "base_uri": "https://localhost:8080/",
          "height": 904
        },
        "outputId": "df332118-50d1-48d6-940c-172c044553a5"
      },
      "source": [
        "import matplotlib.pyplot as plt\n",
        "epochs = range(len(train_acc))\n",
        "plt.plot(epochs, train_acc, 'b', label='Training Accuracy')\n",
        "plt.plot(epochs, val_acc, 'r', label='Validation Accuracy')\n",
        "plt.title('Training and Validation Accuracy')\n",
        "plt.legend()\n",
        "plt.figure()\n",
        "plt.show()\n",
        "\n",
        "plt.plot(epochs, train_loss, 'b', label='Training Loss')\n",
        "plt.plot(epochs, val_loss, 'r', label='Validation Loss')\n",
        "plt.title('Training and Validation Loss')\n",
        "plt.legend()\n",
        "plt.show()\n"
      ],
      "execution_count": 27,
      "outputs": [
        {
          "output_type": "display_data",
          "data": {
            "text/plain": [
              "<Figure size 640x480 with 1 Axes>"
            ],
            "image/png": "[encoded data removed]"
          },
          "metadata": {}
        },
        {
          "output_type": "display_data",
          "data": {
            "text/plain": [
              "<Figure size 640x480 with 0 Axes>"
            ]
          },
          "metadata": {}
        },
        {
          "output_type": "display_data",
          "data": {
            "text/plain": [
              "<Figure size 640x480 with 1 Axes>"
            ],
            "image/png": "[encoded data removed]"
          },
          "metadata": {}
        }
      ]
    },
    {
      "cell_type": "markdown",
      "metadata": {
        "id": "LoVhONtnt3sq"
      },
      "source": [
        "**14. Evaluate model performance on test dataset**"
      ]
    },
    {
      "cell_type": "code",
      "metadata": {
        "id": "dxXMTffHoiVy",
        "colab": {
          "base_uri": "https://localhost:8080/"
        },
        "outputId": "249cd56a-5d1a-4cc8-86c6-07a493a52453"
      },
      "source": [
        "test_output= model.evaluate(test_generator, steps=test_generator.samples/test_generator.batch_size, verbose=1)\n",
        "print(test_output)\n",
        "print(model.metrics_names)"
      ],
      "execution_count": 28,
      "outputs": [
        {
          "output_type": "stream",
          "name": "stdout",
          "text": [
            "1/1 [==============================] - 0s 32ms/step - loss: 0.7453 - acc: 0.7333\n",
            "[0.7452954053878784, 0.7333333492279053]\n",
            "['loss', 'acc']\n"
          ]
        }
      ]
    },
    {
      "cell_type": "code",
      "source": [],
      "metadata": {
        "id": "pvx8AnlQKIrF"
      },
      "execution_count": 28,
      "outputs": []
    },
    {
      "cell_type": "markdown",
      "metadata": {
        "id": "inzAGua1o1we"
      },
      "source": [
        "References:\n",
        "\n",
        "1. https://pypi.org/project/split-folders/\n",
        "2. https://keras.io/"
      ]
    }
  ]
}